{
  "nbformat": 4,
  "nbformat_minor": 0,
  "metadata": {
    "colab": {
      "name": "Vine_Review_Analysis.ipynb",
      "provenance": [],
      "collapsed_sections": []
    },
    "kernelspec": {
      "name": "python3",
      "display_name": "Python 3"
    },
    "language_info": {
      "name": "python"
    }
  },
  "cells": [
    {
      "cell_type": "code",
      "execution_count": 1,
      "metadata": {
        "colab": {
          "base_uri": "https://localhost:8080/"
        },
        "id": "P0wC6w8F3OVV",
        "outputId": "ae6706f1-b875-44b8-9488-cf4c24c70242"
      },
      "outputs": [
        {
          "output_type": "stream",
          "name": "stdout",
          "text": [
            "\r0% [Working]\r            \rGet:1 https://cloud.r-project.org/bin/linux/ubuntu bionic-cran40/ InRelease [3,626 B]\n",
            "\r0% [Connecting to archive.ubuntu.com (91.189.88.142)] [Connecting to security.u\r0% [Connecting to archive.ubuntu.com (91.189.88.142)] [Connecting to security.u\r0% [1 InRelease gpgv 3,626 B] [Connecting to archive.ubuntu.com (91.189.88.142)\r                                                                               \rIgn:2 https://developer.download.nvidia.com/compute/cuda/repos/ubuntu1804/x86_64  InRelease\n",
            "Ign:3 https://developer.download.nvidia.com/compute/machine-learning/repos/ubuntu1804/x86_64  InRelease\n",
            "Hit:4 https://developer.download.nvidia.com/compute/cuda/repos/ubuntu1804/x86_64  Release\n",
            "Hit:5 https://developer.download.nvidia.com/compute/machine-learning/repos/ubuntu1804/x86_64  Release\n",
            "Get:6 http://ppa.launchpad.net/c2d4u.team/c2d4u4.0+/ubuntu bionic InRelease [15.9 kB]\n",
            "Hit:7 http://archive.ubuntu.com/ubuntu bionic InRelease\n",
            "Get:8 http://security.ubuntu.com/ubuntu bionic-security InRelease [88.7 kB]\n",
            "Get:9 http://archive.ubuntu.com/ubuntu bionic-updates InRelease [88.7 kB]\n",
            "Get:10 https://cloud.r-project.org/bin/linux/ubuntu bionic-cran40/ Packages [73.9 kB]\n",
            "Hit:11 http://ppa.launchpad.net/cran/libgit2/ubuntu bionic InRelease\n",
            "Get:12 http://archive.ubuntu.com/ubuntu bionic-backports InRelease [74.6 kB]\n",
            "Get:14 http://ppa.launchpad.net/deadsnakes/ppa/ubuntu bionic InRelease [15.9 kB]\n",
            "Hit:16 http://ppa.launchpad.net/graphics-drivers/ppa/ubuntu bionic InRelease\n",
            "Get:17 http://ppa.launchpad.net/c2d4u.team/c2d4u4.0+/ubuntu bionic/main Sources [1,820 kB]\n",
            "Get:18 http://archive.ubuntu.com/ubuntu bionic-updates/universe amd64 Packages [2,228 kB]\n",
            "Get:19 http://security.ubuntu.com/ubuntu bionic-security/restricted amd64 Packages [691 kB]\n",
            "Get:20 http://archive.ubuntu.com/ubuntu bionic-updates/main amd64 Packages [2,898 kB]\n",
            "Get:21 http://ppa.launchpad.net/c2d4u.team/c2d4u4.0+/ubuntu bionic/main amd64 Packages [933 kB]\n",
            "Get:22 http://security.ubuntu.com/ubuntu bionic-security/main amd64 Packages [2,461 kB]\n",
            "Get:23 http://security.ubuntu.com/ubuntu bionic-security/universe amd64 Packages [1,450 kB]\n",
            "Get:24 http://ppa.launchpad.net/deadsnakes/ppa/ubuntu bionic/main amd64 Packages [45.9 kB]\n",
            "Fetched 12.9 MB in 5s (2,475 kB/s)\n",
            "Reading package lists... Done\n"
          ]
        }
      ],
      "source": [
        "import os\n",
        "# Find the latest version of spark 3.0 from http://www.apache.org/dist/spark/ and enter as the spark version\n",
        "# For example:\n",
        "# spark_version = 'spark-3.0.3'\n",
        "spark_version = 'spark-3.0.3'\n",
        "os.environ['SPARK_VERSION']=spark_version\n",
        "\n",
        "# Install Spark and Java\n",
        "!apt-get update\n",
        "!apt-get install openjdk-11-jdk-headless -qq > /dev/null\n",
        "!wget -q http://www.apache.org/dist/spark/$SPARK_VERSION/$SPARK_VERSION-bin-hadoop2.7.tgz\n",
        "!tar xf $SPARK_VERSION-bin-hadoop2.7.tgz\n",
        "!pip install -q findspark\n",
        "\n",
        "# Set Environment Variables\n",
        "os.environ[\"JAVA_HOME\"] = \"/usr/lib/jvm/java-11-openjdk-amd64\"\n",
        "os.environ[\"SPARK_HOME\"] = f\"/content/{spark_version}-bin-hadoop2.7\"\n",
        "\n",
        "# Start a SparkSession\n",
        "import findspark\n",
        "findspark.init()"
      ]
    },
    {
      "cell_type": "code",
      "source": [
        "# Download the Postgres driver that will allow Spark to interact with Postgres.\n",
        "!wget https://jdbc.postgresql.org/download/postgresql-42.2.16.jar"
      ],
      "metadata": {
        "colab": {
          "base_uri": "https://localhost:8080/"
        },
        "id": "3nTrZNR93U61",
        "outputId": "f1b81d24-0fec-4759-ae0c-b5a39e6692fd"
      },
      "execution_count": 2,
      "outputs": [
        {
          "output_type": "stream",
          "name": "stdout",
          "text": [
            "--2021-12-12 23:35:51--  https://jdbc.postgresql.org/download/postgresql-42.2.16.jar\n",
            "Resolving jdbc.postgresql.org (jdbc.postgresql.org)... 72.32.157.228, 2001:4800:3e1:1::228\n",
            "Connecting to jdbc.postgresql.org (jdbc.postgresql.org)|72.32.157.228|:443... connected.\n",
            "HTTP request sent, awaiting response... 200 OK\n",
            "Length: 1002883 (979K) [application/java-archive]\n",
            "Saving to: ‘postgresql-42.2.16.jar’\n",
            "\n",
            "postgresql-42.2.16. 100%[===================>] 979.38K  4.92MB/s    in 0.2s    \n",
            "\n",
            "2021-12-12 23:35:52 (4.92 MB/s) - ‘postgresql-42.2.16.jar’ saved [1002883/1002883]\n",
            "\n"
          ]
        }
      ]
    },
    {
      "cell_type": "code",
      "source": [
        "from pyspark.sql import SparkSession\n",
        "spark = SparkSession.builder.appName(\"M16-Amazon-Challenge\").config(\"spark.driver.extraClassPath\",\"/content/postgresql-42.2.16.jar\").getOrCreate()"
      ],
      "metadata": {
        "id": "Zuw2Cht03X4m"
      },
      "execution_count": 3,
      "outputs": []
    },
    {
      "cell_type": "code",
      "source": [
        "from pyspark import SparkFiles\n",
        "url = \"https://s3.amazonaws.com/amazon-reviews-pds/tsv/amazon_reviews_us_Watches_v1_00.tsv.gz\"\n",
        "spark.sparkContext.addFile(url)\n",
        "# Read in the Review dataset as a DataFrame\n",
        "df = spark.read.option(\"encoding\", \"UTF-8\").csv(SparkFiles.get(\"\"), sep=\"\\t\", header=True, inferSchema=True)\n",
        "df.show()"
      ],
      "metadata": {
        "colab": {
          "base_uri": "https://localhost:8080/"
        },
        "id": "5_UY-GVy3dee",
        "outputId": "0f037f68-995d-4297-980a-e16fdc0e5a41"
      },
      "execution_count": 4,
      "outputs": [
        {
          "output_type": "stream",
          "name": "stdout",
          "text": [
            "+-----------+-----------+--------------+----------+--------------+--------------------+----------------+-----------+-------------+-----------+----+-----------------+--------------------+--------------------+-----------+\n",
            "|marketplace|customer_id|     review_id|product_id|product_parent|       product_title|product_category|star_rating|helpful_votes|total_votes|vine|verified_purchase|     review_headline|         review_body|review_date|\n",
            "+-----------+-----------+--------------+----------+--------------+--------------------+----------------+-----------+-------------+-----------+----+-----------------+--------------------+--------------------+-----------+\n",
            "|         US|    3653882|R3O9SGZBVQBV76|B00FALQ1ZC|     937001370|Invicta Women's 1...|         Watches|          5|            0|          0|   N|                Y|          Five Stars|Absolutely love t...| 2015-08-31|\n",
            "|         US|   14661224| RKH8BNC3L5DLF|B00D3RGO20|     484010722|Kenneth Cole New ...|         Watches|          5|            0|          0|   N|                Y|I love thiswatch ...|I love this watch...| 2015-08-31|\n",
            "|         US|   27324930|R2HLE8WKZSU3NL|B00DKYC7TK|     361166390|Ritche 22mm Black...|         Watches|          2|            1|          1|   N|                Y|           Two Stars|           Scratches| 2015-08-31|\n",
            "|         US|    7211452|R31U3UH5AZ42LL|B000EQS1JW|     958035625|Citizen Men's BM8...|         Watches|          5|            0|          0|   N|                Y|          Five Stars|It works well on ...| 2015-08-31|\n",
            "|         US|   12733322|R2SV659OUJ945Y|B00A6GFD7S|     765328221|Orient ER27009B M...|         Watches|          4|            0|          0|   N|                Y|Beautiful face, b...|Beautiful watch f...| 2015-08-31|\n",
            "|         US|    6576411| RA51CP8TR5A2L|B00EYSOSE8|     230493695|Casio Men's GW-94...|         Watches|          5|            0|          0|   N|                Y|       No complaints|i love this watch...| 2015-08-31|\n",
            "|         US|   11811565| RB2Q7DLDN6TH6|B00WM0QA3M|     549298279|Fossil Women's ES...|         Watches|          5|            1|          1|   N|                Y|          Five Stars|for my wife and s...| 2015-08-31|\n",
            "|         US|   49401598|R2RHFJV0UYBK3Y|B00A4EYBR0|     844009113|INFANTRY Mens Nig...|         Watches|          1|            1|          5|   N|                N|I was about to bu...|I was about to bu...| 2015-08-31|\n",
            "|         US|   45925069|R2Z6JOQ94LFHEP|B00MAMPGGE|     263720892|G-Shock Men's Gre...|         Watches|          5|            1|          2|   N|                Y|      Perfect watch!|Watch is perfect....| 2015-08-31|\n",
            "|         US|   44751341| RX27XIIWY5JPB|B004LBPB7Q|     124278407|Heiden Quad Watch...|         Watches|          4|            0|          0|   N|                Y|Great quality and...|Great quality and...| 2015-08-31|\n",
            "|         US|    9962330|R15C7QEZT0LGZN|B00KGTVGKS|      28017857|Fossil Women's ES...|         Watches|          4|            2|          2|   N|                Y|           Satisfied|The watch was pre...| 2015-08-31|\n",
            "|         US|   16097204|R361XSS37V0NCZ|B0039UT5OU|     685450910|Casio General Men...|         Watches|          1|            0|          0|   N|                N|I do not think th...|I bought this wat...| 2015-08-31|\n",
            "|         US|   51330346| ROTNLALUAJAUB|B00MPF0XJQ|     767769082|2Tone Gold Silver...|         Watches|          3|            0|          0|   N|                Y|         Three Stars|It is a cheap wat...| 2015-08-31|\n",
            "|         US|    4201739|R2DYX7QU6BGOHR|B003P1OHHS|     648595227|Bulova Men's 98B1...|         Watches|          5|            0|          0|   N|                Y|          Five Stars|Heavier than i th...| 2015-08-31|\n",
            "|         US|   26339765| RWASY7FKI7QOT|B00R70YEOE|     457338020|Casio - G-Shock -...|         Watches|          5|            2|          3|   N|                Y|  Worth it - love it|Had it for severa...| 2015-08-31|\n",
            "|         US|    2692576|R2KKYZIN3CCL21|B000FVE3BG|     824370661|Invicta Men's 332...|         Watches|          5|            0|          0|   N|                Y|This is when diff...|This one is diffe...| 2015-08-31|\n",
            "|         US|   44713366|R22H4FGVD5O52O|B008X6JB12|     814431355|Seiko Women's SUT...|         Watches|          4|            1|          1|   N|                Y|Thewatch is attra...|The watch is attr...| 2015-08-31|\n",
            "|         US|   32778769|R11UACZERCM4ZY|B0040UOFPW|     187700878|Anne Klein Women'...|         Watches|          5|            0|          0|   N|                Y|          Five Stars|      said my wife..| 2015-08-31|\n",
            "|         US|   27258523|R1AT8NQ38UQOL6|B00UR2R5UY|     594315262|Guess U13630G1 Me...|         Watches|          5|            0|          0|   N|                Y|          Five Stars|Nice watch, on ti...| 2015-08-31|\n",
            "|         US|   42646538|R2NCZRQGIF1Q75|B00HFF57L0|     520810507|Nixon Men's Geo V...|         Watches|          4|            0|          0|   N|                Y|        Very stylish|Looks great and l...| 2015-08-31|\n",
            "+-----------+-----------+--------------+----------+--------------+--------------------+----------------+-----------+-------------+-----------+----+-----------------+--------------------+--------------------+-----------+\n",
            "only showing top 20 rows\n",
            "\n"
          ]
        }
      ]
    },
    {
      "cell_type": "code",
      "source": [
        "# Create the vine_table. DataFrame\n",
        "vine_df = df.select([\"review_id\", \"star_rating\", \"helpful_votes\", \"total_votes\", \"vine\", \"verified_purchase\"])\n",
        "vine_df.show()"
      ],
      "metadata": {
        "colab": {
          "base_uri": "https://localhost:8080/"
        },
        "id": "HzonTQcE3pgk",
        "outputId": "2fee4c46-b20f-4a70-c8c7-ab61c29a185c"
      },
      "execution_count": 5,
      "outputs": [
        {
          "output_type": "stream",
          "name": "stdout",
          "text": [
            "+--------------+-----------+-------------+-----------+----+-----------------+\n",
            "|     review_id|star_rating|helpful_votes|total_votes|vine|verified_purchase|\n",
            "+--------------+-----------+-------------+-----------+----+-----------------+\n",
            "|R3O9SGZBVQBV76|          5|            0|          0|   N|                Y|\n",
            "| RKH8BNC3L5DLF|          5|            0|          0|   N|                Y|\n",
            "|R2HLE8WKZSU3NL|          2|            1|          1|   N|                Y|\n",
            "|R31U3UH5AZ42LL|          5|            0|          0|   N|                Y|\n",
            "|R2SV659OUJ945Y|          4|            0|          0|   N|                Y|\n",
            "| RA51CP8TR5A2L|          5|            0|          0|   N|                Y|\n",
            "| RB2Q7DLDN6TH6|          5|            1|          1|   N|                Y|\n",
            "|R2RHFJV0UYBK3Y|          1|            1|          5|   N|                N|\n",
            "|R2Z6JOQ94LFHEP|          5|            1|          2|   N|                Y|\n",
            "| RX27XIIWY5JPB|          4|            0|          0|   N|                Y|\n",
            "|R15C7QEZT0LGZN|          4|            2|          2|   N|                Y|\n",
            "|R361XSS37V0NCZ|          1|            0|          0|   N|                N|\n",
            "| ROTNLALUAJAUB|          3|            0|          0|   N|                Y|\n",
            "|R2DYX7QU6BGOHR|          5|            0|          0|   N|                Y|\n",
            "| RWASY7FKI7QOT|          5|            2|          3|   N|                Y|\n",
            "|R2KKYZIN3CCL21|          5|            0|          0|   N|                Y|\n",
            "|R22H4FGVD5O52O|          4|            1|          1|   N|                Y|\n",
            "|R11UACZERCM4ZY|          5|            0|          0|   N|                Y|\n",
            "|R1AT8NQ38UQOL6|          5|            0|          0|   N|                Y|\n",
            "|R2NCZRQGIF1Q75|          4|            0|          0|   N|                Y|\n",
            "+--------------+-----------+-------------+-----------+----+-----------------+\n",
            "only showing top 20 rows\n",
            "\n"
          ]
        }
      ]
    },
    {
      "cell_type": "code",
      "source": [
        "vine_filtered_df = vine_df.filter((vine_df[\"total_votes\"] > 20) & (vine_df[\"helpful_votes\"]/vine_df[\"total_votes\"] > 0.5))\n",
        "vine_filtered_df.show()"
      ],
      "metadata": {
        "colab": {
          "base_uri": "https://localhost:8080/"
        },
        "id": "u1J-Ejbs38LV",
        "outputId": "5c9a5bd3-407a-4335-f4ed-c12a470b006a"
      },
      "execution_count": 6,
      "outputs": [
        {
          "output_type": "stream",
          "name": "stdout",
          "text": [
            "+--------------+-----------+-------------+-----------+----+-----------------+\n",
            "|     review_id|star_rating|helpful_votes|total_votes|vine|verified_purchase|\n",
            "+--------------+-----------+-------------+-----------+----+-----------------+\n",
            "|R1BTWIBLYYVOV7|          5|           30|         30|   N|                Y|\n",
            "|R3PXNV89DFIXKV|          5|           35|         37|   N|                Y|\n",
            "|R2ZF9NYVT3J7D6|          5|           19|         22|   N|                Y|\n",
            "|R20NYA5V0UF9NE|          5|           27|         28|   N|                Y|\n",
            "|R2X8FZRUOS8R8C|          4|           25|         26|   N|                Y|\n",
            "|R25UD9TA63L3Q8|          5|           25|         27|   N|                Y|\n",
            "|R2RB1HML8N712P|          5|           26|         28|   N|                Y|\n",
            "| ROXA8XP5EI2KK|          5|           48|         49|   N|                N|\n",
            "|R1B7M0OP3UNP6O|          5|           49|         52|   Y|                N|\n",
            "|R2N92CUM7WBA1A|          5|           27|         28|   N|                Y|\n",
            "|R2TAFZNG4KHFQB|          4|           24|         24|   N|                Y|\n",
            "| RNRFACS48ZE4A|          5|           21|         21|   N|                Y|\n",
            "|R2PO5QTLXJ9LHG|          5|           33|         46|   N|                N|\n",
            "|R38KDT041DRMIN|          5|           19|         24|   N|                Y|\n",
            "|R3F3KMKY26K620|          4|           25|         26|   N|                Y|\n",
            "|R2PU32HT6X9DOM|          5|           23|         24|   N|                Y|\n",
            "|R1E96GHLGQ5H9D|          5|           22|         22|   N|                Y|\n",
            "|R33BKAVFS3HJ97|          5|           22|         23|   N|                N|\n",
            "|R32EUTQ34MNG1W|          1|           26|         32|   N|                Y|\n",
            "| RDOUTLIOKLLR1|          1|           33|         37|   N|                Y|\n",
            "+--------------+-----------+-------------+-----------+----+-----------------+\n",
            "only showing top 20 rows\n",
            "\n"
          ]
        }
      ]
    },
    {
      "cell_type": "code",
      "source": [
        "vine_paid_df = vine_filtered_df.filter(vine_filtered_df[\"vine\"] == \"Y\")\n",
        "vine_paid_df.show()"
      ],
      "metadata": {
        "colab": {
          "base_uri": "https://localhost:8080/"
        },
        "id": "8Xm8xw6w5QTF",
        "outputId": "959ddfcb-d456-4fd1-9264-f6d83121664a"
      },
      "execution_count": 7,
      "outputs": [
        {
          "output_type": "stream",
          "name": "stdout",
          "text": [
            "+--------------+-----------+-------------+-----------+----+-----------------+\n",
            "|     review_id|star_rating|helpful_votes|total_votes|vine|verified_purchase|\n",
            "+--------------+-----------+-------------+-----------+----+-----------------+\n",
            "|R1B7M0OP3UNP6O|          5|           49|         52|   Y|                N|\n",
            "|R2UUV4UGGYMQG8|          5|           34|         39|   Y|                N|\n",
            "| R9K0LZV2BK9YY|          4|           37|         39|   Y|                N|\n",
            "|R2OVFLNEUEGTJM|          3|           18|         25|   Y|                N|\n",
            "| RBE09ELJ77LQ0|          5|           44|         45|   Y|                N|\n",
            "|R3867T8AIJJHM6|          5|           26|         27|   Y|                N|\n",
            "|R1FNVUXPU63WOZ|          4|           43|         48|   Y|                N|\n",
            "|R25XGG2G12SE1Z|          4|           20|         23|   Y|                N|\n",
            "| R3JKU4HRDFZDH|          4|           27|         30|   Y|                N|\n",
            "|R2PQYOCJXRB1BF|          5|           26|         28|   Y|                N|\n",
            "|R1JBQ8UBLA8N4X|          4|          349|        370|   Y|                N|\n",
            "|R2I01ZYMO0GYP1|          4|          107|        121|   Y|                N|\n",
            "|R297GF8EF7AXPO|          2|           22|         30|   Y|                N|\n",
            "|R2OFG89WKPLHGU|          5|           54|         60|   Y|                N|\n",
            "|R13PI8O4697CEV|          4|          135|        144|   Y|                N|\n",
            "|R223MX62JYWUOY|          4|           20|         21|   Y|                N|\n",
            "| RTSXZ0HZF623M|          3|           13|         22|   Y|                N|\n",
            "|R1OB4GCKEYGV9I|          4|           61|         90|   Y|                N|\n",
            "|R3L4Z6NK2Z4OV5|          2|           24|         33|   Y|                N|\n",
            "|R3LRMV7GANS3MX|          3|           40|         50|   Y|                N|\n",
            "+--------------+-----------+-------------+-----------+----+-----------------+\n",
            "only showing top 20 rows\n",
            "\n"
          ]
        }
      ]
    },
    {
      "cell_type": "code",
      "source": [
        "vine_unpaid_df = vine_filtered_df.filter(vine_filtered_df[\"vine\"] == \"N\")\n",
        "vine_unpaid_df.show()"
      ],
      "metadata": {
        "colab": {
          "base_uri": "https://localhost:8080/"
        },
        "id": "elV6e5HM5cPk",
        "outputId": "bc956f9f-ef78-409c-a4b1-407c67392eb9"
      },
      "execution_count": 8,
      "outputs": [
        {
          "output_type": "stream",
          "name": "stdout",
          "text": [
            "+--------------+-----------+-------------+-----------+----+-----------------+\n",
            "|     review_id|star_rating|helpful_votes|total_votes|vine|verified_purchase|\n",
            "+--------------+-----------+-------------+-----------+----+-----------------+\n",
            "|R1BTWIBLYYVOV7|          5|           30|         30|   N|                Y|\n",
            "|R3PXNV89DFIXKV|          5|           35|         37|   N|                Y|\n",
            "|R2ZF9NYVT3J7D6|          5|           19|         22|   N|                Y|\n",
            "|R20NYA5V0UF9NE|          5|           27|         28|   N|                Y|\n",
            "|R2X8FZRUOS8R8C|          4|           25|         26|   N|                Y|\n",
            "|R25UD9TA63L3Q8|          5|           25|         27|   N|                Y|\n",
            "|R2RB1HML8N712P|          5|           26|         28|   N|                Y|\n",
            "| ROXA8XP5EI2KK|          5|           48|         49|   N|                N|\n",
            "|R2N92CUM7WBA1A|          5|           27|         28|   N|                Y|\n",
            "|R2TAFZNG4KHFQB|          4|           24|         24|   N|                Y|\n",
            "| RNRFACS48ZE4A|          5|           21|         21|   N|                Y|\n",
            "|R2PO5QTLXJ9LHG|          5|           33|         46|   N|                N|\n",
            "|R38KDT041DRMIN|          5|           19|         24|   N|                Y|\n",
            "|R3F3KMKY26K620|          4|           25|         26|   N|                Y|\n",
            "|R2PU32HT6X9DOM|          5|           23|         24|   N|                Y|\n",
            "|R1E96GHLGQ5H9D|          5|           22|         22|   N|                Y|\n",
            "|R33BKAVFS3HJ97|          5|           22|         23|   N|                N|\n",
            "|R32EUTQ34MNG1W|          1|           26|         32|   N|                Y|\n",
            "| RDOUTLIOKLLR1|          1|           33|         37|   N|                Y|\n",
            "| R3BFHNMC7PBKS|          5|           26|         28|   N|                Y|\n",
            "+--------------+-----------+-------------+-----------+----+-----------------+\n",
            "only showing top 20 rows\n",
            "\n"
          ]
        }
      ]
    },
    {
      "cell_type": "code",
      "source": [
        "vine_paid_df.count()"
      ],
      "metadata": {
        "colab": {
          "base_uri": "https://localhost:8080/"
        },
        "id": "rL-OyBkq5jIF",
        "outputId": "27411760-dc69-45cf-d4fa-0594ced0ab97"
      },
      "execution_count": 9,
      "outputs": [
        {
          "output_type": "execute_result",
          "data": {
            "text/plain": [
              "43"
            ]
          },
          "metadata": {},
          "execution_count": 9
        }
      ]
    },
    {
      "cell_type": "code",
      "source": [
        "vine_unpaid_df.count()"
      ],
      "metadata": {
        "colab": {
          "base_uri": "https://localhost:8080/"
        },
        "id": "uSJwaLUB6Y7c",
        "outputId": "f3dada06-d55a-4614-b7ae-aa0e698a9546"
      },
      "execution_count": 10,
      "outputs": [
        {
          "output_type": "execute_result",
          "data": {
            "text/plain": [
              "7720"
            ]
          },
          "metadata": {},
          "execution_count": 10
        }
      ]
    },
    {
      "cell_type": "code",
      "source": [
        "vine_paid_df.filter(vine_paid_df[\"star_rating\"] == 5).count()"
      ],
      "metadata": {
        "colab": {
          "base_uri": "https://localhost:8080/"
        },
        "id": "sxlnDWF36kjl",
        "outputId": "3eec3026-69c5-4ac7-d3e3-09e5f59029e2"
      },
      "execution_count": 11,
      "outputs": [
        {
          "output_type": "execute_result",
          "data": {
            "text/plain": [
              "14"
            ]
          },
          "metadata": {},
          "execution_count": 11
        }
      ]
    },
    {
      "cell_type": "code",
      "source": [
        "vine_unpaid_df.filter(vine_unpaid_df[\"star_rating\"] == 5).count()"
      ],
      "metadata": {
        "colab": {
          "base_uri": "https://localhost:8080/"
        },
        "id": "N89QbSQv6xXt",
        "outputId": "24e82d9a-7a54-4d42-ec19-000aed16a603"
      },
      "execution_count": 12,
      "outputs": [
        {
          "output_type": "execute_result",
          "data": {
            "text/plain": [
              "4018"
            ]
          },
          "metadata": {},
          "execution_count": 12
        }
      ]
    },
    {
      "cell_type": "code",
      "source": [
        "(vine_paid_df.filter(vine_paid_df[\"star_rating\"] == 5).count())/(vine_paid_df.count())*100"
      ],
      "metadata": {
        "colab": {
          "base_uri": "https://localhost:8080/"
        },
        "id": "VQw9ZFQu6x4E",
        "outputId": "fdaa14a4-6ab0-4a72-f991-ba9473655562"
      },
      "execution_count": 13,
      "outputs": [
        {
          "output_type": "execute_result",
          "data": {
            "text/plain": [
              "32.55813953488372"
            ]
          },
          "metadata": {},
          "execution_count": 13
        }
      ]
    },
    {
      "cell_type": "code",
      "source": [
        "(vine_unpaid_df.filter(vine_unpaid_df[\"star_rating\"] == 5).count())/(vine_unpaid_df.count())*100"
      ],
      "metadata": {
        "colab": {
          "base_uri": "https://localhost:8080/"
        },
        "id": "pyQdCfcu6_xt",
        "outputId": "d6aa23c4-2939-4d4a-8ce2-438789a0288c"
      },
      "execution_count": 14,
      "outputs": [
        {
          "output_type": "execute_result",
          "data": {
            "text/plain": [
              "52.046632124352335"
            ]
          },
          "metadata": {},
          "execution_count": 14
        }
      ]
    }
  ]
}